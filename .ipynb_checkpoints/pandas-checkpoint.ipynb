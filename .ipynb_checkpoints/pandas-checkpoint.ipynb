{
 "cells": [
  {
   "cell_type": "code",
   "execution_count": 3,
   "metadata": {},
   "outputs": [],
   "source": [
    "import pandas as pd"
   ]
  },
  {
   "cell_type": "code",
   "execution_count": 4,
   "metadata": {},
   "outputs": [],
   "source": [
    "df = pd.read_csv('survey_results_public.csv') # This is to read the file from the path\n",
    "    schema_df = pd.read_csv('survey_results_schema.csv') # importing the schema\n",
    "# You can also import any disctionary inside any dataframe. df2 = pd.DataFrame(dictionary_name)"
   ]
  },
  {
   "cell_type": "code",
   "execution_count": null,
   "metadata": {},
   "outputs": [],
   "source": [
    "df.shape # This is a property and not a method shows the dimensions of the dataframe\n",
    "df.info() # This method returns the information about the dataframe like datatypes of rows, etc."
   ]
  },
  {
   "cell_type": "code",
   "execution_count": 8,
   "metadata": {},
   "outputs": [],
   "source": [
    "# To set the number of rows and columns to be displayed:\n",
    "pd.set_option('display.max_columns', 85)\n",
    "pd.set_option('display.max_rows', 80)"
   ]
  },
  {
   "cell_type": "code",
   "execution_count": null,
   "metadata": {},
   "outputs": [],
   "source": [
    "df.head() # you also have df.tail()"
   ]
  },
  {
   "cell_type": "code",
   "execution_count": null,
   "metadata": {},
   "outputs": [],
   "source": [
    "schema_df.head(40)"
   ]
  },
  {
   "cell_type": "code",
   "execution_count": null,
   "metadata": {},
   "outputs": [],
   "source": [
    "df['MainBranch'] # To access value of a single column (You can access series with dot operator as well)"
   ]
  },
  {
   "cell_type": "code",
   "execution_count": null,
   "metadata": {},
   "outputs": [],
   "source": [
    "type(df['Respondent']) # Each column is a series. It means rows of a single column. Multiple series form a dataframe"
   ]
  },
  {
   "cell_type": "code",
   "execution_count": null,
   "metadata": {},
   "outputs": [],
   "source": [
    "df[['Respondent', 'MainBranch']] # Leaving a list of columns that you want to extract.\n",
    "# When we get multiple columns, we get dataframe in return, not series"
   ]
  },
  {
   "cell_type": "code",
   "execution_count": null,
   "metadata": {},
   "outputs": [],
   "source": [
    "df.columns # This method returns all the columns"
   ]
  },
  {
   "cell_type": "code",
   "execution_count": null,
   "metadata": {},
   "outputs": [],
   "source": [
    "df.iloc[0] # To access rows, you gotta use iLoc (index-location)"
   ]
  },
  {
   "cell_type": "code",
   "execution_count": null,
   "metadata": {},
   "outputs": [],
   "source": [
    "df.iloc[[0,1]] # to get a list of rows"
   ]
  },
  {
   "cell_type": "code",
   "execution_count": null,
   "metadata": {},
   "outputs": [],
   "source": [
    "df.iloc[[0,1], 2] # df.iloc[row,col] df.loc - to access rows and columns by names/strings. "
   ]
  },
  {
   "cell_type": "code",
   "execution_count": null,
   "metadata": {},
   "outputs": [],
   "source": [
    "df.loc[0,'Respondent'] # df.loc[row,col]"
   ]
  },
  {
   "cell_type": "code",
   "execution_count": null,
   "metadata": {},
   "outputs": [],
   "source": [
    "type(df.shape) # df.shape returns a tuple"
   ]
  },
  {
   "cell_type": "code",
   "execution_count": null,
   "metadata": {},
   "outputs": [],
   "source": [
    " df['Hobbyist'].value_counts() # Here, we can get the counts of unique items"
   ]
  },
  {
   "cell_type": "code",
   "execution_count": null,
   "metadata": {},
   "outputs": [],
   "source": [
    "df.loc[0:2, 'Hobbyist': 'Employment'] # Slicing is supported in loc. The last item is inclusive"
   ]
  },
  {
   "cell_type": "code",
   "execution_count": null,
   "metadata": {},
   "outputs": [],
   "source": [
    "df.set_index('Respondent') # To set the index. This just marks the column as index. To modify and replace original index\n",
    "# please run df.set_index('Respondent', inplace=True).\n",
    "# Once you set the index, you lose the original indices. Index are nothing but row labels"
   ]
  },
  {
   "cell_type": "code",
   "execution_count": null,
   "metadata": {},
   "outputs": [],
   "source": [
    "df.index"
   ]
  },
  {
   "cell_type": "code",
   "execution_count": null,
   "metadata": {},
   "outputs": [],
   "source": [
    "df.reset_index(inplace=True) # To reset the indices\n",
    "# You can also set index while loading the data into data into dataframe"
   ]
  },
  {
   "cell_type": "code",
   "execution_count": 41,
   "metadata": {},
   "outputs": [],
   "source": [
    "df = pd.read_csv('survey_results_public.csv', index_col='Respondent')\n",
    "schema_df = pd.read_csv('survey_results_schema.csv', index_col='Column')"
   ]
  },
  {
   "cell_type": "code",
   "execution_count": 37,
   "metadata": {},
   "outputs": [],
   "source": [
    "# schema_df.set_index('Column', inplace=True)"
   ]
  },
  {
   "cell_type": "code",
   "execution_count": null,
   "metadata": {},
   "outputs": [],
   "source": [
    "df.head()"
   ]
  },
  {
   "cell_type": "code",
   "execution_count": 47,
   "metadata": {},
   "outputs": [],
   "source": [
    "schema_df.sort_index(inplace=True) # To sort the index To sort in descending order, pass descending=False. Passing inplace=True \n",
    "# makes the changes  to the source"
   ]
  },
  {
   "cell_type": "code",
   "execution_count": 51,
   "metadata": {},
   "outputs": [],
   "source": [
    "filt = df['Country'] == 'India' # Setting up the filter"
   ]
  },
  {
   "cell_type": "code",
   "execution_count": null,
   "metadata": {},
   "outputs": [],
   "source": [
    "df[filt] # Approach 1 of applying filter to the dataframe. Wit this approach, you get all cols matching the criteria\n",
    "df.loc[filt] # Approach 2 of applying filter to the dataframe. With this approach, you can get specific cols"
   ]
  },
  {
   "cell_type": "code",
   "execution_count": null,
   "metadata": {},
   "outputs": [],
   "source": [
    "filt2 = (df['Country'] == 'India') & (df['Hobbyist'] == 'Yes') # Use of & to apply and operation between filtering criteria\n",
    "df.loc[~filt2] # By just putting ~ in front of the filter name, you can all rows which doesn't match the filter"
   ]
  },
  {
   "cell_type": "code",
   "execution_count": null,
   "metadata": {},
   "outputs": [],
   "source": [
    "# pd.set_option('display.max_columns', 100)\n",
    "\n",
    "high_salary = (df['ConvertedComp'] > 70000)\n",
    "df.loc[high_salary, ['Country', 'LanguageWorkedWith', 'ConvertedComp']]"
   ]
  },
  {
   "cell_type": "code",
   "execution_count": null,
   "metadata": {},
   "outputs": [],
   "source": [
    "countries = ['United States', 'India', 'United Kingdome', 'Germany', 'Canada']\n",
    "filt3 = df['Country'].isin(countries) # You can pass a list of values that you want to compare with\n",
    "df.loc[filt3]"
   ]
  },
  {
   "cell_type": "code",
   "execution_count": null,
   "metadata": {},
   "outputs": [],
   "source": [
    "df['LanguageWorkedWith']\n",
    "filt4 = df['LanguageWorkedWith'].str.contains('Python', na=False) # setting up filter to filter a string\n",
    "df.loc[filt4, ['Country', 'LanguageWorkedWith']]"
   ]
  }
 ],
 "metadata": {
  "kernelspec": {
   "display_name": "Python 3",
   "language": "python",
   "name": "python3"
  },
  "language_info": {
   "codemirror_mode": {
    "name": "ipython",
    "version": 3
   },
   "file_extension": ".py",
   "mimetype": "text/x-python",
   "name": "python",
   "nbconvert_exporter": "python",
   "pygments_lexer": "ipython3",
   "version": "3.8.3"
  }
 },
 "nbformat": 4,
 "nbformat_minor": 4
}
